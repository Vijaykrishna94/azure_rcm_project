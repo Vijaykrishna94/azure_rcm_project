{
 "cells": [
  {
   "cell_type": "code",
   "execution_count": 0,
   "metadata": {
    "application/vnd.databricks.v1+cell": {
     "cellMetadata": {
      "byteLimit": 2048000,
      "implicitDf": true,
      "rowLimit": 10000
     },
     "inputWidgets": {},
     "nuid": "32956a6a-01b0-49cc-8157-e5e03fc6f234",
     "showTitle": false,
     "tableResultSettingsMap": {},
     "title": ""
    }
   },
   "outputs": [],
   "source": [
    "%sql\n",
    "--Total Charge Amount per provider by department\n",
    "CREATE OR REPLACE TABLE gold.amt_provider AS\n",
    " select\n",
    "   concat(p.firstname, ' ', p.LastName) Provider_Name,\n",
    "   dd.Name Dept_Name,\n",
    "   sum(ft.Amount)  total_amount\n",
    " from\n",
    "   gold.fact_transactions ft\n",
    "   left join gold.dim_provider p on p.ProviderID = ft.FK_ProviderID\n",
    "   left join gold.dim_department dd on dd.Dept_Id = p.DeptID\n",
    "   WHERE  concat(p.firstname, ' ', p.LastName) <> '' AND  dd.Name <>''\n",
    " group by\n",
    "   all ;"
   ]
  },
  {
   "cell_type": "code",
   "execution_count": 0,
   "metadata": {
    "application/vnd.databricks.v1+cell": {
     "cellMetadata": {
      "byteLimit": 2048000,
      "implicitDf": true,
      "rowLimit": 10000
     },
     "inputWidgets": {},
     "nuid": "2a0267d3-5e85-4333-a816-8aa342eb59d7",
     "showTitle": false,
     "tableResultSettingsMap": {},
     "title": ""
    }
   },
   "outputs": [],
   "source": [
    "%sql\n",
    "--Total Charge Amount per provider by department for each month for year 2024\n",
    " CREATE OR REPLACE TABLE gold.amt_provider_mnthly_2024 AS\n",
    " select\n",
    "   concat(p.firstname, ' ', p.LastName) Provider_Name,\n",
    "   dd.Name Dept_Name,\n",
    "   date_format(servicedate, 'yyyyMM')  year_month,\n",
    "   sum(ft.Amount) Total_Charge_Amt,\n",
    "   sum(ft.paidamount) Total_Paid_Amt\n",
    " from\n",
    "   gold.fact_transactions ft\n",
    "   left join gold.dim_provider p on p.ProviderID = ft.FK_ProviderID\n",
    "   left join gold.dim_department dd on dd.Dept_Id = p.DeptID\n",
    " where\n",
    "   year(ft.ServiceDate) = 2024 AND  concat(p.firstname, ' ', p.LastName) <> '' AND  dd.Name <>''\n",
    " group by\n",
    "   all\n",
    " order by\n",
    "   1,\n",
    "   3;\n"
   ]
  },
  {
   "cell_type": "code",
   "execution_count": 0,
   "metadata": {
    "application/vnd.databricks.v1+cell": {
     "cellMetadata": {
      "byteLimit": 2048000,
      "implicitDf": true,
      "rowLimit": 10000
     },
     "inputWidgets": {},
     "nuid": "87e8ebb1-5ab0-4c48-b1ad-1682292727c3",
     "showTitle": false,
     "tableResultSettingsMap": {},
     "title": ""
    }
   },
   "outputs": [],
   "source": [
    "delta_table = spark.read.format(\"delta\").load(\"dbfs:/user/hive/warehouse/gold.db/amt_provider\")\n",
    "adls_path = \"/mnt/gold/amt_provider\"\n",
    "delta_table.write.format(\"delta\").mode(\"overwrite\").save(adls_path)"
   ]
  },
  {
   "cell_type": "code",
   "execution_count": null,
   "metadata": {},
   "outputs": [],
   "source": [
    "delta_table = spark.read.format(\"delta\").load(\"dbfs:/user/hive/warehouse/gold.db/amt_provider_mnthly_2024\")\n",
    "adls_path = \"/mnt/gold/amt_provider_mnthly_2024\"\n",
    "delta_table.write.format(\"delta\").mode(\"overwrite\").save(adls_path)"
   ]
  }
 ],
 "metadata": {
  "application/vnd.databricks.v1+notebook": {
   "dashboards": [],
   "environmentMetadata": {
    "base_environment": "",
    "client": "1"
   },
   "language": "python",
   "notebookMetadata": {
    "mostRecentlyExecutedCommandWithImplicitDF": {
     "commandId": 4429486847610378,
     "dataframes": [
      "_sqldf"
     ]
    },
    "pythonIndentUnit": 2
   },
   "notebookName": "dim_icd_code",
   "widgets": {}
  },
  "language_info": {
   "name": "python"
  }
 },
 "nbformat": 4,
 "nbformat_minor": 0
}
